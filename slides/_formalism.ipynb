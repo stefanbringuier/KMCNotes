{
  "cells": [
    {
      "cell_type": "markdown",
      "metadata": {},
      "source": [
        "## Monte Carlo Methods\n",
        "\n",
        "* Solve complex problems using random sampling from a probablity distribution (i.e. stochastic description).\n",
        "* Useful to evolve a physical system to a new state from an esemble of potential future states.\n",
        "\n",
        "<!-- ![Monte Carlo methods @Andersen2019](figures/Andersen2019_fig1.jpg){#fig-andersent2019-1} -->\n",
        "\n",
        "\n",
        "## Integrating a function MC sampling\n",
        "::: {style=\"font-size: 0.66em; text-align: center\"}\n",
        "\n",
        "* If we want to evaluate the integral of a function over some domain we can numerically approximate this using the [midpoint rule](https://tinyurl.com/midpoint-numerical):\n",
        "$$ \\int_a^b f(x) dx = \\frac{b-a}{N} \\sum_{i=1}^N f(x_i) $$ {#eq-midpoint-rule}\n",
        "\n",
        "* There is an alternative way to do this using probablity theory to determine the expectation value of a function $f(x)$ for random variable $x$:\n",
        "$$ \\int_a^b p(x) f(x) dx = \\frac{b-a}{N} \\sum_{i=1}^N f(x_i) $$ {#eq-mc-int}\n",
        "where $p(x)$ is a uniform probablity distribution over the interval $[a,b]$.\n",
        "\n",
        "\n",
        "* The difference between numerically evaluating @eq-midpoint-rule and @eq-mc-int, is that @eq-midpoint-rule is evaluated over a grid of points and @eq-mc-int is randomly sampled points.\n",
        "\n",
        "* The error of MC integration is $\\propto \\frac{1}{\\sqrt{N}}$ as a result of [central limit theorem](https://en.wikipedia.org/wiki/Central_limit_theorem)\n",
        "\n",
        ":::\n"
      ],
      "id": "f3348f3b"
    },
    {
      "cell_type": "code",
      "metadata": {},
      "source": [
        "#| echo: false\n",
        "using Plots\n",
        "using Distributions\n",
        "begin\n",
        "\tstruct Sampler{T<:Distribution,S<:Distribution}\n",
        "\t\tx::T\n",
        "\t\ty::S\n",
        "\tend\n",
        "\tSampler() = Sampler([Uniform(),Uniform()])\n",
        "\tBase.rand(s::Sampler) = begin\n",
        "\t\tx′,y′ = rand(s.x), rand(s.y)\n",
        "\t\treturn x′,y′\n",
        "\tend\n",
        "end;\n",
        "\n",
        "struct MCInt\n",
        "\tvalue::Number\n",
        "\tinterval::Tuple{Number,Number}\n",
        "\tsteps::Integer\n",
        "\thistory::Vector\n",
        "\tpoints::AbstractArray\n",
        "end;\n",
        "\n",
        "function montecarlo_integrate(f::Function,a,b;\n",
        "\t\t\t\t\t\t\t  s::Sampler=Sampler(),\n",
        "\t\t\t\t\t\t\t  N=1000, ybounds=(0.0,1.0),\n",
        "\t\t\t\t\t\t\t  keep_points=false)\n",
        "\tcount = 0.0e0;\n",
        "\tmcaccum = zeros(N)\n",
        "\tpoints = Tuple{Float64,Float64}[]\n",
        "\th = sum(ybounds);\n",
        "\tfor i=1:N\n",
        "\t\tx′,y′ = rand(s.x),rand(s.y)\n",
        "\t\tif y′ < f(x′)\n",
        "\t\t\tcount += 1\n",
        "\t\tend\n",
        "\t\tkeep_points ? push!(points,(x′,y′)) : nothing\n",
        "\t\tmcaccum[i] = (b-a) * h * count / i\n",
        "\tend\n",
        "\tvalue  = (b-a) * h * count / N\n",
        "\treturn MCInt(value,(a,b),N,mcaccum,\n",
        "\t\t\t     reinterpret(reshape,Float64,points)\n",
        "\t\t\t\t)\n",
        "\tend\n",
        "\t\n",
        "xₘᵢₙ,xₘₐₓ = 1.0, 4.0\n",
        "analytical = (xₘₐₓ*log(xₘₐₓ)-xₘₐₓ) - (xₘᵢₙ*log(xₘᵢₙ)-xₘᵢₙ)\n",
        "\n",
        "s = Sampler(Uniform(xₘᵢₙ,xₘₐₓ),Uniform(log(xₘᵢₙ),log(xₘₐₓ)))\n",
        "mcint_log = montecarlo_integrate(log,xₘᵢₙ,xₘₐₓ;\n",
        "\t\t\t\t\t\t\t\t s=s,\n",
        "\t\t\t\t\t\t\t\t ybounds=(log(xₘᵢₙ),log(xₘₐₓ)),\n",
        " \t\t\t\t\t\t\t\t N=1000,\n",
        "\t\t\t\t\t\t\t\t keep_points=true);"
      ],
      "id": "fe3a58b7",
      "execution_count": null,
      "outputs": []
    },
    {
      "cell_type": "markdown",
      "metadata": {},
      "source": [
        "## Example integrating a function using MC sampling^[A more detailed notebook implementing the code can be viewed [here](https://stefanbringuier.github.io/PlutoNotebookBlogging/assets/notebooks/TrivialMC.html)]{auto-animate=true}\n"
      ],
      "id": "4d117d25"
    },
    {
      "cell_type": "code",
      "metadata": {},
      "source": [
        "#| echo: false\n",
        "#| label: fig-mc-int-a\n",
        "#| fig-cap: 'Random sampled points from uniform distribution over the interval $[1,4]$. The black points are those that are accepted.'\n",
        "p1 = plot(log,xₘᵢₙ:0.1:xₘₐₓ,lw=3,lc=:blue,\n",
        "\tlabel=\"Function\",xlabel=\"x\",ylabel=\"log(x)\")\n",
        "z = map(x-> x ? :black : :red,log.(mcint_log.points[1,:]) .> mcint_log.points[2,:])  \n",
        "scatter!(p1,mcint_log.points[1,:],mcint_log.points[2,:],label=\"Sampled points\",mc=z,msc=nothing)"
      ],
      "id": "fig-mc-int-a",
      "execution_count": null,
      "outputs": []
    },
    {
      "cell_type": "markdown",
      "metadata": {},
      "source": [
        "## Example integrating a function using MC sampling{auto-animate=true}\n"
      ],
      "id": "7ef88746"
    },
    {
      "cell_type": "code",
      "metadata": {},
      "source": [
        "#| echo: false\n",
        "#| label: fig-mc-int-b\n",
        "#| fig-cap: Integration of $log(x)$ using MC.\n",
        "p2 = plot(mcint_log.history,label=\"MC trajectory\",\n",
        "\t\txlabel=\"MC steps\",ylabel=\"MC value\")\n",
        "plot!(p2,[analytical],st=:hline,lw=2,label=\"Analytical\")"
      ],
      "id": "fig-mc-int-b",
      "execution_count": null,
      "outputs": []
    },
    {
      "cell_type": "markdown",
      "metadata": {},
      "source": [
        "## Statistical Thermodynamics & Ensemble Properties {auto-animate=true}\n",
        "::: {style=\"font-size: 0.66em; text-align: center\"}\n",
        "\n",
        "* Microscopic → Macroscopic description\n",
        "\t* How positions and momenta of $10^{23}$ particles relates to bulk temperature, pressure, or volume.\n",
        "* Ensembles use probablity of specific microstate\n",
        "* Probability theory: average of a function or variable, $\\langle X \\rangle$:\n",
        "$$\n",
        "\\langle X \\rangle = \\frac{1}{N} \\sum_{i=1}^N n_i \\, X_i = \\sum_{i=1}^N \\underbrace{p_i}_{\\text{PDF}} X_i\n",
        "$${#eq-prob-averages}\n",
        "* If $\\langle X \\rangle$ is continous, @eq-prob-averages is an integral. \n",
        "\n",
        "::: aside\n",
        "The probablity density function (PDF) has the property that its normalized, i.e. $\\sum_{i=1}^N p_i = 1$ \n",
        ":::\n",
        "\n",
        ":::\n",
        "\n",
        "## Statistical Thermodynamics & Ensemble Properties {auto-animate=true}\n",
        "*"
      ],
      "id": "7ef12e8b"
    }
  ],
  "metadata": {
    "kernelspec": {
      "name": "julia-1.8",
      "language": "julia",
      "display_name": "Julia 1.8.0"
    }
  },
  "nbformat": 4,
  "nbformat_minor": 5
}